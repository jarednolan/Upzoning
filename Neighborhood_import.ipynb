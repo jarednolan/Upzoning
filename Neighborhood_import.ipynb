{
 "cells": [
  {
   "cell_type": "code",
   "execution_count": 2,
   "metadata": {
    "collapsed": false
   },
   "outputs": [],
   "source": [
    "import pandas as pd, numpy as np\n",
    "\n",
    "#, csv, requests, datetime, time, zipfile"
   ]
  },
  {
   "cell_type": "code",
   "execution_count": null,
   "metadata": {
    "collapsed": false
   },
   "outputs": [],
   "source": [
    "path = 'Neighborhoods/' # select folder with data in it\n",
    "\n",
    "#specify datatypes so FIPS numbers, etc. read in properly\n",
    "dtypes = {'Geo_STATE': 'str', 'Geo_FIPS': 'str', 'Geo_COUNTY': 'str', 'h_tract': 'str', 'FIPS_County': 'str'}\n",
    "\n",
    "# load acs data\n",
    "colnames = ['Geo_STATE','Geo_FIPS','ACS16_5yr_B25003003','ACS16_5yr_B25003001','ACS16_5yr_B03002012','ACS16_5yr_B03002003',\n",
    "            'ACS16_5yr_B03002004','ACS16_5yr_B03002001','ACS16_5yr_B03002012','ACS16_5yr_C17002001','ACS16_5yr_B25004001',\n",
    "            'ACS16_5yr_C17002008','ACS16_5yr_C17002001','ACS16_5yr_C17002008','ACS16_5yr_C17002001','ACS16_5yr_B25024002',\n",
    "            'ACS16_5yr_B25024003','ACS16_5yr_B25024004','ACS16_5yr_B25024005','ACS16_5yr_B25024006','ACS16_5yr_B25024007',\n",
    "            'ACS16_5yr_B25024008','ACS16_5yr_B25024009','ACS16_5yr_B25024001','ACS16_5yr_B25034002','ACS16_5yr_B25034003',\n",
    "            'ACS16_5yr_B25034004','ACS16_5yr_B25034010','ACS16_5yr_B25034011','ACS16_5yr_B25034001','ACS16_5yr_B15003022',\n",
    "            'ACS16_5yr_B15003023','ACS16_5yr_B15003024','ACS16_5yr_B15003025','ACS16_5yr_B15003001','ACS16_5yr_B11005001',\n",
    "            'ACS16_5yr_B11005002','ACS16_5yr_B03002005','ACS16_5yr_B03002006','ACS16_5yr_B03002007','Geo_COUNTY',\n",
    "            'Density_OccHU_LandSqmi_2016','Geo_landsqmi','PopWtCent_longitude','PopWtCent_latitude',\n",
    "            'ACS16_5yr_B25001001']\n",
    "\n",
    "acs_data = pd.read_csv(path + 'ACS_Neighborhood_Raw.csv', usecols=(colnames),delimiter=',', dtype=dtypes)\n",
    "\n",
    "acs_data.head()"
   ]
  },
  {
   "cell_type": "code",
   "execution_count": null,
   "metadata": {
    "collapsed": false
   },
   "outputs": [],
   "source": [
    "#this file contains variables like rent, house values, unemployment\n",
    "add_acs = pd.read_csv(path + 'Additional_ACS.csv', usecols=('Geo_FIPS', 'ACS16_5yr_B25064001', 'ACS16_5yr_B25077001',\n",
    "                                                            'ACS16_5yr_B23025005','ACS16_5yr_B23025003'), \n",
    "                      delimiter=',', dtype=dtypes)\n",
    "add_acs['FIPS_County'] = add_acs['Geo_FIPS'].str[:5]\n",
    "\n",
    "#this file contains a cross tab between poverty status and race\n",
    "colnames3 = ['Geo_FIPS', 'ACS16_5yr_B17020H001', 'ACS16_5yr_B17020H002', 'ACS16_5yr_B17020B001', 'ACS16_5yr_B17020B002', \n",
    "             'ACS16_5yr_B17020D001', 'ACS16_5yr_B17020D002', 'ACS16_5yr_B17020E001', 'ACS16_5yr_B17020E002',\n",
    "             'ACS16_5yr_B17020I001', 'ACS16_5yr_B17020I002']\n",
    "pov_race = pd.read_csv(path + 'Poverty_race.csv', usecols=(colnames3), delimiter=',', dtype=dtypes)\n",
    "\n",
    "#this file contains household income by gross rent\n",
    "colnames2 = ['Geo_FIPS','ACS16_5yr_B25074001','ACS16_5yr_B25074006','ACS16_5yr_B25074007','ACS16_5yr_B25074008',\n",
    "            'ACS16_5yr_B25074009','ACS16_5yr_B25074015','ACS16_5yr_B25074016','ACS16_5yr_B25074017','ACS16_5yr_B25074018',\n",
    "            'ACS16_5yr_B25074024','ACS16_5yr_B25074025','ACS16_5yr_B25074026','ACS16_5yr_B25074027','ACS16_5yr_B25074033',\n",
    "            'ACS16_5yr_B25074034','ACS16_5yr_B25074035','ACS16_5yr_B25074036']\n",
    "inc_rent = pd.read_csv(path + 'rent_income.csv', usecols=(colnames2), delimiter=',', dtype=dtypes)\n",
    "\n",
    "#this file contains county data for unemployment rate, median rent, median house values\n",
    "#Need to change variable names so they are differentiated from the census tract level variables\n",
    "#colnames4 = ['Geo_FIPS','ACS16_5yr_B23025003','ACS16_5yr_B23025005','B25064001','B25077001']\n",
    "colnames4 = [0, 57, 59, 69, 71]\n",
    "newnames = ['FIPS_County','county_labor','county_unemp','county_med_rent','county_med_value']\n",
    "county = pd.read_csv(path + 'county_data.csv', usecols=(colnames4), header=0, names=(newnames), delimiter=',', dtype=dtypes)\n",
    "\n",
    "#this file contains jobs near tracts\n",
    "employ = 'Employment/'\n",
    "jobs = pd.read_csv(employ + 'tract nearby jobs master.csv', delimiter=',', dtype=dtypes)\n",
    "\n",
    "county.head()"
   ]
  },
  {
   "cell_type": "code",
   "execution_count": null,
   "metadata": {
    "collapsed": false
   },
   "outputs": [],
   "source": [
    "#merge together census tract datasets\n",
    "merge1 = pd.merge(add_acs, pov_race, on=\"Geo_FIPS\", how=\"outer\")\n",
    "merge2 = pd.merge(merge1, inc_rent, on=\"Geo_FIPS\", how=\"outer\")\n",
    "merge3 = pd.merge(merge2, jobs, left_on = 'Geo_FIPS', right_on = 'h_tract', how=\"left\")\n",
    "merge4 = pd.merge(merge3, county, on = 'FIPS_County', how='left')\n",
    "\n",
    "merge4.head()"
   ]
  },
  {
   "cell_type": "code",
   "execution_count": null,
   "metadata": {
    "collapsed": false
   },
   "outputs": [],
   "source": [
    "#left merge on this last one since Mark's dataset contains the entire US but we want to keep only CA tracts\n",
    "master = pd.merge(merge4, acs_data, on='Geo_FIPS',how=\"left\")\n",
    "\n",
    "master.head()"
   ]
  },
  {
   "cell_type": "code",
   "execution_count": null,
   "metadata": {
    "collapsed": false
   },
   "outputs": [],
   "source": [
    "out = pd.DataFrame(master['Geo_FIPS']).join(master.loc[:,'alljobs':'county_med_value'])\n",
    "\n",
    "out['renters'] = master['ACS16_5yr_B25003003']\n",
    "out['occ_HU'] = master['ACS16_5yr_B25003001']\n",
    "\n",
    "out['hispanic'] = master['ACS16_5yr_B03002012']\n",
    "out['black'] = master['ACS16_5yr_B03002004']\n",
    "out['white'] = master['ACS16_5yr_B03002003']\n",
    "out['asian'] = master['ACS16_5yr_B03002006']\n",
    "out['nhpi'] = master['ACS16_5yr_B03002007']\n",
    "out['total_pop'] = master['ACS16_5yr_B03002001']\n",
    "\n",
    "out['below200pov'] = master['ACS16_5yr_C17002001'] - master['ACS16_5yr_C17002008']\n",
    "out['total_pov_status'] = master['ACS16_5yr_C17002001']\n",
    "\n",
    "out['rent_occ_HU'] = master['ACS16_5yr_B25074001']\n",
    "out['low_inc_rent_burden'] = (master['ACS16_5yr_B25074006'] + master['ACS16_5yr_B25074007'] + master['ACS16_5yr_B25074008'] + master['ACS16_5yr_B25074009'] + \n",
    "                              master['ACS16_5yr_B25074015'] + master['ACS16_5yr_B25074016'] + master['ACS16_5yr_B25074017'] + master['ACS16_5yr_B25074018'] + \n",
    "                              master['ACS16_5yr_B25074024'] + master['ACS16_5yr_B25074025'] + master['ACS16_5yr_B25074026'] + master['ACS16_5yr_B25074027'] + \n",
    "                              master['ACS16_5yr_B25074033'] + master['ACS16_5yr_B25074034'] + master['ACS16_5yr_B25074035'] + master['ACS16_5yr_B25074036'])\n",
    "\n",
    "out['white_pov_tot'] = master['ACS16_5yr_B17020H001'] #NH white total\n",
    "out['white_pov'] = master['ACS16_5yr_B17020H002'] #NH white poverty\n",
    "out['black_pov_tot'] = master['ACS16_5yr_B17020B001'] #black total\n",
    "out['black_pov'] = master['ACS16_5yr_B17020B002'] #black pov\n",
    "out['asian_pov_tot'] = master['ACS16_5yr_B17020D001'] #asian total\n",
    "out['asian_pov'] = master['ACS16_5yr_B17020D002'] #asian pov\n",
    "out['nhpi_pov_tot'] = master['ACS16_5yr_B17020E001'] #NHPI total\n",
    "out['nhpi_pov'] = master['ACS16_5yr_B17020E002'] #NHPI pov\n",
    "out['hispanic_pov_tot'] = master['ACS16_5yr_B17020I001'] #hispanic total\n",
    "out['hispanic_pov'] = master['ACS16_5yr_B17020I002'] #hispanic pov\n",
    "\n",
    "out['sfdetach'] = master['ACS16_5yr_B25024002']\n",
    "out['smallmf'] = master['ACS16_5yr_B25024004'] + master['ACS16_5yr_B25024005'] #2 units and 3-4 units\n",
    "out['medmf'] = master['ACS16_5yr_B25024006'] + master['ACS16_5yr_B25024007'] #5-9 units and 10-19 units\n",
    "out['bigmf'] = master['ACS16_5yr_B25024008'] + master['ACS16_5yr_B25024009'] #20-49 units and 50+ units\n",
    "out['total_hu'] = master['ACS16_5yr_B25024001']\n",
    "out['vacant_hu'] = master['ACS16_5yr_B25004001']\n",
    "out['total_hu2'] = master['ACS16_5yr_B25001001']\n",
    "\n",
    "out['since2000'] = master['ACS16_5yr_B25034002'] + master['ACS16_5yr_B25034003'] + master['ACS16_5yr_B25034004'] #2014 or later, 2010-2013, 2000-2009\n",
    "out['before1950'] = master['ACS16_5yr_B25034010'] + master['ACS16_5yr_B25034011'] #1940-1949, 1939 or earlier\n",
    "out['total_structure'] = master['ACS16_5yr_B25034001']\n",
    "\n",
    "out['bach_degree'] = master['ACS16_5yr_B15003022'] + master['ACS16_5yr_B15003023'] + master['ACS16_5yr_B15003024'] + master['ACS16_5yr_B15003025']\n",
    "out['pop_over_25'] = master['ACS16_5yr_B15003001']\n",
    "\n",
    "out['hh_kids'] = master['ACS16_5yr_B11005001']\n",
    "out['total_hh'] = master['ACS16_5yr_B11005002']\n",
    "\n",
    "out['med_rent'] = master['ACS16_5yr_B25064001']\n",
    "out['med_housevalue'] = master['ACS16_5yr_B25077001']\n",
    "\n",
    "out['unemp_civ'] = master['ACS16_5yr_B23025005']\n",
    "out['civ_labor_force'] = master['ACS16_5yr_B23025003']\n",
    "\n",
    "out.head()\n"
   ]
  },
  {
   "cell_type": "code",
   "execution_count": null,
   "metadata": {
    "collapsed": true
   },
   "outputs": [],
   "source": [
    "out.to_csv(path + 'tract_data.csv')"
   ]
  }
 ],
 "metadata": {
  "kernelspec": {
   "display_name": "Python 3",
   "language": "python",
   "name": "python3"
  },
  "language_info": {
   "codemirror_mode": {
    "name": "ipython",
    "version": 3
   },
   "file_extension": ".py",
   "mimetype": "text/x-python",
   "name": "python",
   "nbconvert_exporter": "python",
   "pygments_lexer": "ipython3",
   "version": "3.4.5"
  }
 },
 "nbformat": 4,
 "nbformat_minor": 2
}
